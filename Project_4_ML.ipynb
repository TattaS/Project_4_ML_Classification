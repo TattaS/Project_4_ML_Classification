{
 "cells": [
  {
   "cell_type": "markdown",
   "id": "c353de9a",
   "metadata": {},
   "source": [
    "# Проект: классификация"
   ]
  },
  {
   "cell_type": "code",
   "execution_count": 68,
   "id": "4a6e54dc",
   "metadata": {},
   "outputs": [],
   "source": [
    "import pandas as pd\n",
    "import numpy as np\n",
    "import matplotlib.pyplot as plt\n",
    "import seaborn as sns\n",
    "from  sklearn.ensemble import IsolationForest\n",
    "from sklearn.ensemble import GradientBoostingClassifier\n",
    "from sklearn.metrics import classification_report\n",
    "from sklearn.ensemble import StackingClassifier\n",
    "import warnings\n",
    "warnings.filterwarnings('ignore')\n",
    "from sklearn.preprocessing  import LabelEncoder\n",
    "from sklearn import linear_model \n",
    "from sklearn import tree \n",
    "from sklearn import ensemble \n",
    "from sklearn import metrics \n",
    "from sklearn import preprocessing \n",
    "from sklearn.model_selection import train_test_split \n",
    "from sklearn.feature_selection import SelectKBest, f_classif\n",
    "import statistics"
   ]
  },
  {
   "cell_type": "markdown",
   "id": "71559b60",
   "metadata": {},
   "source": [
    "## Часть 1. Знакомство с данными, обработка пропусков и выбросов"
   ]
  },
  {
   "cell_type": "markdown",
   "id": "7c5e31b2",
   "metadata": {},
   "source": [
    "### Задание 1"
   ]
  },
  {
   "cell_type": "code",
   "execution_count": 2,
   "id": "20730cd7",
   "metadata": {},
   "outputs": [],
   "source": [
    "df = pd.read_csv('/home/tatiana/ML/Project Classification/bank_fin.csv', sep = ';')"
   ]
  },
  {
   "cell_type": "code",
   "execution_count": 3,
   "id": "c34a7fcc",
   "metadata": {},
   "outputs": [
    {
     "data": {
      "text/html": [
       "<div>\n",
       "<style scoped>\n",
       "    .dataframe tbody tr th:only-of-type {\n",
       "        vertical-align: middle;\n",
       "    }\n",
       "\n",
       "    .dataframe tbody tr th {\n",
       "        vertical-align: top;\n",
       "    }\n",
       "\n",
       "    .dataframe thead th {\n",
       "        text-align: right;\n",
       "    }\n",
       "</style>\n",
       "<table border=\"1\" class=\"dataframe\">\n",
       "  <thead>\n",
       "    <tr style=\"text-align: right;\">\n",
       "      <th></th>\n",
       "      <th>age</th>\n",
       "      <th>job</th>\n",
       "      <th>marital</th>\n",
       "      <th>education</th>\n",
       "      <th>default</th>\n",
       "      <th>balance</th>\n",
       "      <th>housing</th>\n",
       "      <th>loan</th>\n",
       "      <th>contact</th>\n",
       "      <th>day</th>\n",
       "      <th>month</th>\n",
       "      <th>duration</th>\n",
       "      <th>campaign</th>\n",
       "      <th>pdays</th>\n",
       "      <th>previous</th>\n",
       "      <th>poutcome</th>\n",
       "      <th>deposit</th>\n",
       "    </tr>\n",
       "  </thead>\n",
       "  <tbody>\n",
       "    <tr>\n",
       "      <th>0</th>\n",
       "      <td>59</td>\n",
       "      <td>admin.</td>\n",
       "      <td>married</td>\n",
       "      <td>secondary</td>\n",
       "      <td>no</td>\n",
       "      <td>2 343,00 $</td>\n",
       "      <td>yes</td>\n",
       "      <td>no</td>\n",
       "      <td>unknown</td>\n",
       "      <td>5</td>\n",
       "      <td>may</td>\n",
       "      <td>1042</td>\n",
       "      <td>1</td>\n",
       "      <td>-1</td>\n",
       "      <td>0</td>\n",
       "      <td>unknown</td>\n",
       "      <td>yes</td>\n",
       "    </tr>\n",
       "    <tr>\n",
       "      <th>1</th>\n",
       "      <td>56</td>\n",
       "      <td>admin.</td>\n",
       "      <td>married</td>\n",
       "      <td>secondary</td>\n",
       "      <td>no</td>\n",
       "      <td>45,00 $</td>\n",
       "      <td>no</td>\n",
       "      <td>no</td>\n",
       "      <td>unknown</td>\n",
       "      <td>5</td>\n",
       "      <td>may</td>\n",
       "      <td>1467</td>\n",
       "      <td>1</td>\n",
       "      <td>-1</td>\n",
       "      <td>0</td>\n",
       "      <td>unknown</td>\n",
       "      <td>yes</td>\n",
       "    </tr>\n",
       "  </tbody>\n",
       "</table>\n",
       "</div>"
      ],
      "text/plain": [
       "   age     job  marital  education default       balance housing loan  \\\n",
       "0   59  admin.  married  secondary      no   2 343,00 $      yes   no   \n",
       "1   56  admin.  married  secondary      no      45,00 $       no   no   \n",
       "\n",
       "   contact  day month  duration  campaign  pdays  previous poutcome deposit  \n",
       "0  unknown    5   may      1042         1     -1         0  unknown     yes  \n",
       "1  unknown    5   may      1467         1     -1         0  unknown     yes  "
      ]
     },
     "execution_count": 3,
     "metadata": {},
     "output_type": "execute_result"
    }
   ],
   "source": [
    "df.head(2)"
   ]
  },
  {
   "cell_type": "code",
   "execution_count": 4,
   "id": "ba11dc67",
   "metadata": {},
   "outputs": [
    {
     "data": {
      "text/plain": [
       "age           0\n",
       "job           0\n",
       "marital       0\n",
       "education     0\n",
       "default       0\n",
       "balance      25\n",
       "housing       0\n",
       "loan          0\n",
       "contact       0\n",
       "day           0\n",
       "month         0\n",
       "duration      0\n",
       "campaign      0\n",
       "pdays         0\n",
       "previous      0\n",
       "poutcome      0\n",
       "deposit       0\n",
       "dtype: int64"
      ]
     },
     "execution_count": 4,
     "metadata": {},
     "output_type": "execute_result"
    }
   ],
   "source": [
    "# исследуйте данные на предмет пропусков. Где есть пропущенные значения? Сколько их?\n",
    "# ваш код\n",
    "df.isnull().sum()\n"
   ]
  },
  {
   "cell_type": "markdown",
   "id": "6366f059",
   "metadata": {},
   "source": [
    "### Задание 2"
   ]
  },
  {
   "cell_type": "code",
   "execution_count": 5,
   "id": "98ea29d4",
   "metadata": {},
   "outputs": [
    {
     "data": {
      "text/plain": [
       "array(['admin.', 'technician', 'services', 'management', 'retired',\n",
       "       'blue-collar', 'unemployed', 'entrepreneur', 'housemaid',\n",
       "       'unknown', 'self-employed', 'student'], dtype=object)"
      ]
     },
     "execution_count": 5,
     "metadata": {},
     "output_type": "execute_result"
    }
   ],
   "source": [
    "# есть ли в признаке job пропущенные значения? Возможно, они обозначены каким-то специальным словом?\n",
    "# ваш код\n",
    "df['job'].unique()"
   ]
  },
  {
   "cell_type": "markdown",
   "id": "8fcf4fcd",
   "metadata": {},
   "source": [
    "### Задание 3"
   ]
  },
  {
   "cell_type": "code",
   "execution_count": 3,
   "id": "3a01be5e",
   "metadata": {},
   "outputs": [],
   "source": [
    "# преобразуйте признак balance таким образом, чтобы он корректно считывался, как вещественное число (float)\n",
    "df['balance'] = df['balance'].apply(lambda x: str(x).replace(',00 $','').replace(' ','').replace('$',''))\n",
    "df['balance'] = df['balance'].astype(float)"
   ]
  },
  {
   "cell_type": "code",
   "execution_count": 6,
   "id": "c311d168",
   "metadata": {},
   "outputs": [
    {
     "data": {
      "text/plain": [
       "1529.129"
      ]
     },
     "execution_count": 6,
     "metadata": {},
     "output_type": "execute_result"
    }
   ],
   "source": [
    "round(df['balance'].mean(),3)"
   ]
  },
  {
   "cell_type": "markdown",
   "id": "6de63fd7",
   "metadata": {},
   "source": [
    "### Задание 4"
   ]
  },
  {
   "cell_type": "code",
   "execution_count": 4,
   "id": "6a684a63",
   "metadata": {},
   "outputs": [],
   "source": [
    "# обработайте пропуски в признаки balance , заменив их на медианные значения по данному признаку\n",
    "# ваш код\n",
    "df['balance'] = df['balance'].fillna(df['balance'].median())"
   ]
  },
  {
   "cell_type": "code",
   "execution_count": 8,
   "id": "c4b12b7a",
   "metadata": {},
   "outputs": [
    {
     "data": {
      "text/plain": [
       "1526.936"
      ]
     },
     "execution_count": 8,
     "metadata": {},
     "output_type": "execute_result"
    }
   ],
   "source": [
    "round(df['balance'].mean(),3)"
   ]
  },
  {
   "cell_type": "markdown",
   "id": "1097ec42",
   "metadata": {},
   "source": [
    "### Задание 5"
   ]
  },
  {
   "cell_type": "code",
   "execution_count": 5,
   "id": "0fa070a6",
   "metadata": {},
   "outputs": [],
   "source": [
    "# обработайте пропуски в категориальных признаках: job и education, заменив их на модальные значения\n",
    "# ваш код\n",
    "#job_mode = statistics.mode(df['job'])\n",
    "df['job'] = df['job'].apply(lambda x: statistics.mode(df['job']) if x =='unknown' else x)"
   ]
  },
  {
   "cell_type": "code",
   "execution_count": 135,
   "id": "6be39191",
   "metadata": {},
   "outputs": [
    {
     "data": {
      "text/plain": [
       "management       2636\n",
       "blue-collar      1944\n",
       "technician       1823\n",
       "admin.           1334\n",
       "services          923\n",
       "retired           778\n",
       "self-employed     405\n",
       "student           360\n",
       "unemployed        357\n",
       "entrepreneur      328\n",
       "housemaid         274\n",
       "Name: job, dtype: int64"
      ]
     },
     "execution_count": 135,
     "metadata": {},
     "output_type": "execute_result"
    }
   ],
   "source": [
    "df['job'].value_counts(ascending=False)"
   ]
  },
  {
   "cell_type": "code",
   "execution_count": 6,
   "id": "209e0e7a",
   "metadata": {},
   "outputs": [],
   "source": [
    "df['education'] = df['education'].apply(lambda x: statistics.mode(df['education']) if x=='unknown' else x)"
   ]
  },
  {
   "cell_type": "code",
   "execution_count": 137,
   "id": "d10dbca9",
   "metadata": {},
   "outputs": [
    {
     "data": {
      "text/plain": [
       "secondary    5973\n",
       "tertiary     3689\n",
       "primary      1500\n",
       "Name: education, dtype: int64"
      ]
     },
     "execution_count": 137,
     "metadata": {},
     "output_type": "execute_result"
    }
   ],
   "source": [
    "df['education'].value_counts(ascending=False)"
   ]
  },
  {
   "cell_type": "code",
   "execution_count": 7,
   "id": "476528f6",
   "metadata": {},
   "outputs": [
    {
     "data": {
      "text/plain": [
       "1598.883"
      ]
     },
     "execution_count": 7,
     "metadata": {},
     "output_type": "execute_result"
    }
   ],
   "source": [
    "mask1 = df['job']=='management' \n",
    "mask2 = df['education']=='secondary'\n",
    "round(df[mask1 & mask2]['balance'].mean(), 3)"
   ]
  },
  {
   "cell_type": "markdown",
   "id": "02af77c6",
   "metadata": {},
   "source": [
    "### Задание 6"
   ]
  },
  {
   "cell_type": "code",
   "execution_count": 8,
   "id": "3802cdd9",
   "metadata": {},
   "outputs": [
    {
     "name": "stdout",
     "output_type": "stream",
     "text": [
      "Верхняя граница по методу Тьюки: 4063\n",
      "Нижняя граница по методу Тьюки: -2241\n",
      "Число выбросов по методу Тьюки: 1058\n",
      "Результирующее число записей: 10105\n"
     ]
    }
   ],
   "source": [
    "# удалите все выбросы для признака balance\n",
    "# ваш код\n",
    "def outliers_iqr(data, feature):\n",
    "    x = data[feature]\n",
    "    quartile_1, quartile_3 = x.quantile(0.25), x.quantile(0.75),\n",
    "    iqr = quartile_3 - quartile_1\n",
    "    lower_bound = quartile_1 - (iqr * 1.5)\n",
    "    upper_bound = quartile_3 + (iqr * 1.5)\n",
    "    outliers = data[(x<=lower_bound) | (x >= upper_bound)]\n",
    "    cleaned = data[(x>=lower_bound) & (x <= upper_bound)]\n",
    "    return outliers, cleaned, lower_bound, upper_bound\n",
    "\n",
    "outliers, cleaned, lower_bound, upper_bound = outliers_iqr(df,'balance')\n",
    "print(f'Верхняя граница по методу Тьюки: {round(upper_bound)}')\n",
    "print(f'Нижняя граница по методу Тьюки: {round(lower_bound)}')\n",
    "print(f'Число выбросов по методу Тьюки: {outliers.shape[0]}')\n",
    "print(f'Результирующее число записей: {cleaned.shape[0]}')"
   ]
  },
  {
   "cell_type": "code",
   "execution_count": 9,
   "id": "20793471",
   "metadata": {},
   "outputs": [],
   "source": [
    "mask1 = df['balance'] >= -2241\n",
    "mask2 = df['balance'] <= 4063\n",
    "df = df[mask1 & mask2]"
   ]
  },
  {
   "cell_type": "code",
   "execution_count": 10,
   "id": "469b7b47",
   "metadata": {},
   "outputs": [
    {
     "data": {
      "text/plain": [
       "10105"
      ]
     },
     "execution_count": 10,
     "metadata": {},
     "output_type": "execute_result"
    }
   ],
   "source": [
    "df.shape[0]"
   ]
  },
  {
   "cell_type": "markdown",
   "id": "5d22b8cd",
   "metadata": {},
   "source": [
    "## Часть 2:  Разведывательный анализ"
   ]
  },
  {
   "cell_type": "markdown",
   "id": "21e1f083",
   "metadata": {},
   "source": [
    "### Задание 1"
   ]
  },
  {
   "cell_type": "code",
   "execution_count": 141,
   "id": "6d0cd3a8",
   "metadata": {},
   "outputs": [
    {
     "data": {
      "text/plain": [
       "no     5424\n",
       "yes    4681\n",
       "Name: deposit, dtype: int64"
      ]
     },
     "execution_count": 141,
     "metadata": {},
     "output_type": "execute_result"
    }
   ],
   "source": [
    "# изучите соотношение классов в ваших данных на предмет несбалансированности, проиллюстрируйте результат\n",
    "# ваш код\n",
    "df['deposit'].value_counts()"
   ]
  },
  {
   "cell_type": "code",
   "execution_count": 20,
   "id": "5f1bfa8c",
   "metadata": {},
   "outputs": [
    {
     "data": {
      "image/png": "[encoded data removed]",
      "text/plain": [
       "<Figure size 432x288 with 1 Axes>"
      ]
     },
     "metadata": {
      "needs_background": "light"
     },
     "output_type": "display_data"
    }
   ],
   "source": [
    "sns.countplot(data=df, x='deposit');"
   ]
  },
  {
   "cell_type": "markdown",
   "id": "069e194b",
   "metadata": {},
   "source": [
    "Вывод: целевой признак немного несблалансирован"
   ]
  },
  {
   "cell_type": "markdown",
   "id": "426b1d40",
   "metadata": {},
   "source": [
    "### Задания 2 и 3"
   ]
  },
  {
   "cell_type": "code",
   "execution_count": 22,
   "id": "603cdb3c",
   "metadata": {},
   "outputs": [
    {
     "data": {
      "text/html": [
       "<div>\n",
       "<style scoped>\n",
       "    .dataframe tbody tr th:only-of-type {\n",
       "        vertical-align: middle;\n",
       "    }\n",
       "\n",
       "    .dataframe tbody tr th {\n",
       "        vertical-align: top;\n",
       "    }\n",
       "\n",
       "    .dataframe thead th {\n",
       "        text-align: right;\n",
       "    }\n",
       "</style>\n",
       "<table border=\"1\" class=\"dataframe\">\n",
       "  <thead>\n",
       "    <tr style=\"text-align: right;\">\n",
       "      <th></th>\n",
       "      <th>age</th>\n",
       "      <th>balance</th>\n",
       "      <th>day</th>\n",
       "      <th>duration</th>\n",
       "      <th>campaign</th>\n",
       "      <th>pdays</th>\n",
       "      <th>previous</th>\n",
       "    </tr>\n",
       "  </thead>\n",
       "  <tbody>\n",
       "    <tr>\n",
       "      <th>count</th>\n",
       "      <td>10105.000000</td>\n",
       "      <td>10105.000000</td>\n",
       "      <td>10105.000000</td>\n",
       "      <td>10105.000000</td>\n",
       "      <td>10105.000000</td>\n",
       "      <td>10105.000000</td>\n",
       "      <td>10105.000000</td>\n",
       "    </tr>\n",
       "    <tr>\n",
       "      <th>mean</th>\n",
       "      <td>40.895497</td>\n",
       "      <td>807.653538</td>\n",
       "      <td>15.590302</td>\n",
       "      <td>368.742603</td>\n",
       "      <td>2.517170</td>\n",
       "      <td>51.319644</td>\n",
       "      <td>0.816230</td>\n",
       "    </tr>\n",
       "    <tr>\n",
       "      <th>std</th>\n",
       "      <td>11.734931</td>\n",
       "      <td>994.151966</td>\n",
       "      <td>8.441510</td>\n",
       "      <td>346.651524</td>\n",
       "      <td>2.707159</td>\n",
       "      <td>109.644179</td>\n",
       "      <td>2.243795</td>\n",
       "    </tr>\n",
       "    <tr>\n",
       "      <th>min</th>\n",
       "      <td>18.000000</td>\n",
       "      <td>-2049.000000</td>\n",
       "      <td>1.000000</td>\n",
       "      <td>2.000000</td>\n",
       "      <td>1.000000</td>\n",
       "      <td>-1.000000</td>\n",
       "      <td>0.000000</td>\n",
       "    </tr>\n",
       "    <tr>\n",
       "      <th>25%</th>\n",
       "      <td>32.000000</td>\n",
       "      <td>95.000000</td>\n",
       "      <td>8.000000</td>\n",
       "      <td>137.000000</td>\n",
       "      <td>1.000000</td>\n",
       "      <td>-1.000000</td>\n",
       "      <td>0.000000</td>\n",
       "    </tr>\n",
       "    <tr>\n",
       "      <th>50%</th>\n",
       "      <td>38.000000</td>\n",
       "      <td>445.000000</td>\n",
       "      <td>15.000000</td>\n",
       "      <td>252.000000</td>\n",
       "      <td>2.000000</td>\n",
       "      <td>-1.000000</td>\n",
       "      <td>0.000000</td>\n",
       "    </tr>\n",
       "    <tr>\n",
       "      <th>75%</th>\n",
       "      <td>48.000000</td>\n",
       "      <td>1227.000000</td>\n",
       "      <td>22.000000</td>\n",
       "      <td>490.000000</td>\n",
       "      <td>3.000000</td>\n",
       "      <td>2.000000</td>\n",
       "      <td>1.000000</td>\n",
       "    </tr>\n",
       "    <tr>\n",
       "      <th>max</th>\n",
       "      <td>95.000000</td>\n",
       "      <td>4063.000000</td>\n",
       "      <td>31.000000</td>\n",
       "      <td>3881.000000</td>\n",
       "      <td>43.000000</td>\n",
       "      <td>854.000000</td>\n",
       "      <td>58.000000</td>\n",
       "    </tr>\n",
       "  </tbody>\n",
       "</table>\n",
       "</div>"
      ],
      "text/plain": [
       "                age       balance           day      duration      campaign  \\\n",
       "count  10105.000000  10105.000000  10105.000000  10105.000000  10105.000000   \n",
       "mean      40.895497    807.653538     15.590302    368.742603      2.517170   \n",
       "std       11.734931    994.151966      8.441510    346.651524      2.707159   \n",
       "min       18.000000  -2049.000000      1.000000      2.000000      1.000000   \n",
       "25%       32.000000     95.000000      8.000000    137.000000      1.000000   \n",
       "50%       38.000000    445.000000     15.000000    252.000000      2.000000   \n",
       "75%       48.000000   1227.000000     22.000000    490.000000      3.000000   \n",
       "max       95.000000   4063.000000     31.000000   3881.000000     43.000000   \n",
       "\n",
       "              pdays      previous  \n",
       "count  10105.000000  10105.000000  \n",
       "mean      51.319644      0.816230  \n",
       "std      109.644179      2.243795  \n",
       "min       -1.000000      0.000000  \n",
       "25%       -1.000000      0.000000  \n",
       "50%       -1.000000      0.000000  \n",
       "75%        2.000000      1.000000  \n",
       "max      854.000000     58.000000  "
      ]
     },
     "execution_count": 22,
     "metadata": {},
     "output_type": "execute_result"
    }
   ],
   "source": [
    "#рассчитайте описательные статистики для количественных переменных, проинтерпретируйте результат\n",
    "#ваш код\n",
    "df.describe()"
   ]
  },
  {
   "cell_type": "code",
   "execution_count": 142,
   "id": "b66ce68f",
   "metadata": {},
   "outputs": [
    {
     "data": {
      "image/png": "[encoded data removed]",
      "text/plain": [
       "<Figure size 720x504 with 1 Axes>"
      ]
     },
     "metadata": {
      "needs_background": "light"
     },
     "output_type": "display_data"
    }
   ],
   "source": [
    "fig = plt.figure(figsize=(10, 7))\n",
    "boxplot = sns.boxplot(x=df['age'])\n",
    "boxplot.set_title('Распределение клиентов по возрасту')\n",
    "boxplot.set_xlabel('Возраст')\n",
    "boxplot.grid()"
   ]
  },
  {
   "cell_type": "code",
   "execution_count": 12,
   "id": "b9343e68",
   "metadata": {},
   "outputs": [
    {
     "data": {
      "image/png": "[encoded data removed]",
      "text/plain": [
       "<Figure size 720x504 with 1 Axes>"
      ]
     },
     "metadata": {
      "needs_background": "light"
     },
     "output_type": "display_data"
    }
   ],
   "source": [
    "fig = plt.figure(figsize=(10, 7))\n",
    "boxplot = sns.boxplot(x=df['duration'])\n",
    "boxplot.set_title('Распределение продолжительности разговора с клиентом')\n",
    "boxplot.set_xlabel('Продолжительности разговора (сек)')\n",
    "boxplot.grid()"
   ]
  },
  {
   "cell_type": "markdown",
   "id": "821dc39e",
   "metadata": {},
   "source": [
    "### Задания 4 и 5"
   ]
  },
  {
   "cell_type": "code",
   "execution_count": 13,
   "id": "bf45afc9",
   "metadata": {},
   "outputs": [
    {
     "data": {
      "text/html": [
       "<div>\n",
       "<style scoped>\n",
       "    .dataframe tbody tr th:only-of-type {\n",
       "        vertical-align: middle;\n",
       "    }\n",
       "\n",
       "    .dataframe tbody tr th {\n",
       "        vertical-align: top;\n",
       "    }\n",
       "\n",
       "    .dataframe thead th {\n",
       "        text-align: right;\n",
       "    }\n",
       "</style>\n",
       "<table border=\"1\" class=\"dataframe\">\n",
       "  <thead>\n",
       "    <tr style=\"text-align: right;\">\n",
       "      <th></th>\n",
       "      <th>job</th>\n",
       "      <th>marital</th>\n",
       "      <th>education</th>\n",
       "      <th>default</th>\n",
       "      <th>housing</th>\n",
       "      <th>loan</th>\n",
       "      <th>contact</th>\n",
       "      <th>month</th>\n",
       "      <th>poutcome</th>\n",
       "      <th>deposit</th>\n",
       "    </tr>\n",
       "  </thead>\n",
       "  <tbody>\n",
       "    <tr>\n",
       "      <th>count</th>\n",
       "      <td>10105</td>\n",
       "      <td>10105</td>\n",
       "      <td>10105</td>\n",
       "      <td>10105</td>\n",
       "      <td>10105</td>\n",
       "      <td>10105</td>\n",
       "      <td>10105</td>\n",
       "      <td>10105</td>\n",
       "      <td>10105</td>\n",
       "      <td>10105</td>\n",
       "    </tr>\n",
       "    <tr>\n",
       "      <th>unique</th>\n",
       "      <td>11</td>\n",
       "      <td>3</td>\n",
       "      <td>3</td>\n",
       "      <td>2</td>\n",
       "      <td>2</td>\n",
       "      <td>2</td>\n",
       "      <td>3</td>\n",
       "      <td>12</td>\n",
       "      <td>4</td>\n",
       "      <td>2</td>\n",
       "    </tr>\n",
       "    <tr>\n",
       "      <th>top</th>\n",
       "      <td>management</td>\n",
       "      <td>married</td>\n",
       "      <td>secondary</td>\n",
       "      <td>no</td>\n",
       "      <td>no</td>\n",
       "      <td>no</td>\n",
       "      <td>cellular</td>\n",
       "      <td>may</td>\n",
       "      <td>unknown</td>\n",
       "      <td>no</td>\n",
       "    </tr>\n",
       "    <tr>\n",
       "      <th>freq</th>\n",
       "      <td>2315</td>\n",
       "      <td>5715</td>\n",
       "      <td>5517</td>\n",
       "      <td>9939</td>\n",
       "      <td>5243</td>\n",
       "      <td>8712</td>\n",
       "      <td>7283</td>\n",
       "      <td>2617</td>\n",
       "      <td>7570</td>\n",
       "      <td>5424</td>\n",
       "    </tr>\n",
       "  </tbody>\n",
       "</table>\n",
       "</div>"
      ],
      "text/plain": [
       "               job  marital  education default housing   loan   contact  \\\n",
       "count        10105    10105      10105   10105   10105  10105     10105   \n",
       "unique          11        3          3       2       2      2         3   \n",
       "top     management  married  secondary      no      no     no  cellular   \n",
       "freq          2315     5715       5517    9939    5243   8712      7283   \n",
       "\n",
       "        month poutcome deposit  \n",
       "count   10105    10105   10105  \n",
       "unique     12        4       2  \n",
       "top       may  unknown      no  \n",
       "freq     2617     7570    5424  "
      ]
     },
     "execution_count": 13,
     "metadata": {},
     "output_type": "execute_result"
    }
   ],
   "source": [
    "#рассчитайте описательные статистики для категориальных переменных, проинтерпретируйте результат\n",
    "#ваш код\n",
    "df.describe(include='object')\n",
    "#постройте визуализации, иллюстрирующие результаты"
   ]
  },
  {
   "cell_type": "code",
   "execution_count": 11,
   "id": "1afaafd7",
   "metadata": {},
   "outputs": [],
   "source": [
    "#df['month'].groupby('month').count()\n",
    "df_grouped = df.groupby('month',as_index=False).count().sort_values(by='deposit',ascending=False)[['month','deposit']]"
   ]
  },
  {
   "cell_type": "code",
   "execution_count": 12,
   "id": "f4b7513e",
   "metadata": {},
   "outputs": [
    {
     "data": {
      "text/plain": [
       "Text(0, 0.5, 'Количество разговоров с клиентом в месяц')"
      ]
     },
     "execution_count": 12,
     "metadata": {},
     "output_type": "execute_result"
    },
    {
     "data": {
      "image/png": "[encoded data removed]",
      "text/plain": [
       "<Figure size 720x504 with 1 Axes>"
      ]
     },
     "metadata": {
      "needs_background": "light"
     },
     "output_type": "display_data"
    }
   ],
   "source": [
    "fig = plt.figure(figsize=(10, 7))\n",
    "barplot = sns.barplot(\n",
    "    data=df_grouped,\n",
    "    x='month',\n",
    "    y='deposit'\n",
    ")\n",
    "barplot.set_title('Распределение месяца последнего контакта с клиентом');\n",
    "barplot.set_xlabel('Месяц последнего контакта')\n",
    "barplot.set_ylabel('Количество разговоров с клиентом в месяц')"
   ]
  },
  {
   "cell_type": "code",
   "execution_count": 16,
   "id": "25e7d60b",
   "metadata": {},
   "outputs": [
    {
     "data": {
      "text/plain": [
       "Text(0.5, 1.0, 'Распределение сфер занятости клиентов банка')"
      ]
     },
     "execution_count": 16,
     "metadata": {},
     "output_type": "execute_result"
    },
    {
     "data": {
      "image/png": "[encoded data removed]",
      "text/plain": [
       "<Figure size 360x360 with 1 Axes>"
      ]
     },
     "metadata": {},
     "output_type": "display_data"
    }
   ],
   "source": [
    "df_jobs = df['job'].value_counts()\n",
    "fig = plt.figure(figsize=(5, 5))\n",
    "axes = fig.add_axes([0, 0, 1, 1])\n",
    "axes.pie(\n",
    "    df_jobs,\n",
    "    labels=df_jobs.index,\n",
    "    autopct='%.1f%%',\n",
    "    explode = [0.1, 0, 0, 0, 0, 0, 0, 0, 0, 0, 0]\n",
    ");\n",
    "axes.set_title('Распределение сфер занятости клиентов банка') "
   ]
  },
  {
   "cell_type": "markdown",
   "id": "472cff5b",
   "metadata": {},
   "source": [
    "### Задание 6"
   ]
  },
  {
   "cell_type": "code",
   "execution_count": 17,
   "id": "2d640ce1",
   "metadata": {},
   "outputs": [],
   "source": [
    "# Узнайте, для какого статуса предыдущей маркетинговой кампании успех в текущей превалирует над количеством неудач.\n",
    "# ваш код\n",
    "df_poutcome = df.groupby(['poutcome','deposit'],as_index=False)['poutcome','deposit'].value_counts()"
   ]
  },
  {
   "cell_type": "code",
   "execution_count": 18,
   "id": "0055614f",
   "metadata": {},
   "outputs": [
    {
     "data": {
      "image/png": "[encoded data removed]",
      "text/plain": [
       "<Figure size 720x504 with 1 Axes>"
      ]
     },
     "metadata": {
      "needs_background": "light"
     },
     "output_type": "display_data"
    }
   ],
   "source": [
    "fig = plt.figure(figsize=(10, 7))\n",
    "barplot = sns.barplot(\n",
    "    data=df_poutcome,\n",
    "    x='poutcome',\n",
    "    y='count',\n",
    "    hue='deposit'\n",
    ")\n",
    "barplot.grid()\n",
    "barplot.set_title('Какой статус предыдущей рекламной компании положительно влияет на результат текущей')"
   ]
  },
  {
   "cell_type": "markdown",
   "id": "9c32e3aa",
   "metadata": {},
   "source": [
    "### Задание 7"
   ]
  },
  {
   "cell_type": "code",
   "execution_count": 19,
   "id": "df437ec3",
   "metadata": {},
   "outputs": [
    {
     "data": {
      "text/html": [
       "<div>\n",
       "<style scoped>\n",
       "    .dataframe tbody tr th:only-of-type {\n",
       "        vertical-align: middle;\n",
       "    }\n",
       "\n",
       "    .dataframe tbody tr th {\n",
       "        vertical-align: top;\n",
       "    }\n",
       "\n",
       "    .dataframe thead th {\n",
       "        text-align: right;\n",
       "    }\n",
       "</style>\n",
       "<table border=\"1\" class=\"dataframe\">\n",
       "  <thead>\n",
       "    <tr style=\"text-align: right;\">\n",
       "      <th></th>\n",
       "      <th>month</th>\n",
       "      <th>total_decisions</th>\n",
       "      <th>negative_decisions</th>\n",
       "      <th>negative_percent</th>\n",
       "    </tr>\n",
       "  </thead>\n",
       "  <tbody>\n",
       "    <tr>\n",
       "      <th>0</th>\n",
       "      <td>may</td>\n",
       "      <td>2617</td>\n",
       "      <td>1776</td>\n",
       "      <td>0.6786</td>\n",
       "    </tr>\n",
       "    <tr>\n",
       "      <th>7</th>\n",
       "      <td>jan</td>\n",
       "      <td>319</td>\n",
       "      <td>194</td>\n",
       "      <td>0.6082</td>\n",
       "    </tr>\n",
       "    <tr>\n",
       "      <th>2</th>\n",
       "      <td>jul</td>\n",
       "      <td>1418</td>\n",
       "      <td>836</td>\n",
       "      <td>0.5896</td>\n",
       "    </tr>\n",
       "    <tr>\n",
       "      <th>5</th>\n",
       "      <td>nov</td>\n",
       "      <td>780</td>\n",
       "      <td>456</td>\n",
       "      <td>0.5846</td>\n",
       "    </tr>\n",
       "    <tr>\n",
       "      <th>3</th>\n",
       "      <td>aug</td>\n",
       "      <td>1385</td>\n",
       "      <td>775</td>\n",
       "      <td>0.5596</td>\n",
       "    </tr>\n",
       "    <tr>\n",
       "      <th>1</th>\n",
       "      <td>jun</td>\n",
       "      <td>1104</td>\n",
       "      <td>606</td>\n",
       "      <td>0.5489</td>\n",
       "    </tr>\n",
       "    <tr>\n",
       "      <th>8</th>\n",
       "      <td>feb</td>\n",
       "      <td>709</td>\n",
       "      <td>323</td>\n",
       "      <td>0.4556</td>\n",
       "    </tr>\n",
       "    <tr>\n",
       "      <th>10</th>\n",
       "      <td>apr</td>\n",
       "      <td>830</td>\n",
       "      <td>317</td>\n",
       "      <td>0.3819</td>\n",
       "    </tr>\n",
       "    <tr>\n",
       "      <th>4</th>\n",
       "      <td>oct</td>\n",
       "      <td>335</td>\n",
       "      <td>62</td>\n",
       "      <td>0.1851</td>\n",
       "    </tr>\n",
       "    <tr>\n",
       "      <th>11</th>\n",
       "      <td>sep</td>\n",
       "      <td>278</td>\n",
       "      <td>46</td>\n",
       "      <td>0.1655</td>\n",
       "    </tr>\n",
       "    <tr>\n",
       "      <th>9</th>\n",
       "      <td>mar</td>\n",
       "      <td>237</td>\n",
       "      <td>24</td>\n",
       "      <td>0.1013</td>\n",
       "    </tr>\n",
       "    <tr>\n",
       "      <th>6</th>\n",
       "      <td>dec</td>\n",
       "      <td>93</td>\n",
       "      <td>9</td>\n",
       "      <td>0.0968</td>\n",
       "    </tr>\n",
       "  </tbody>\n",
       "</table>\n",
       "</div>"
      ],
      "text/plain": [
       "   month  total_decisions  negative_decisions  negative_percent\n",
       "0    may             2617                1776            0.6786\n",
       "7    jan              319                 194            0.6082\n",
       "2    jul             1418                 836            0.5896\n",
       "5    nov              780                 456            0.5846\n",
       "3    aug             1385                 775            0.5596\n",
       "1    jun             1104                 606            0.5489\n",
       "8    feb              709                 323            0.4556\n",
       "10   apr              830                 317            0.3819\n",
       "4    oct              335                  62            0.1851\n",
       "11   sep              278                  46            0.1655\n",
       "9    mar              237                  24            0.1013\n",
       "6    dec               93                   9            0.0968"
      ]
     },
     "execution_count": 19,
     "metadata": {},
     "output_type": "execute_result"
    }
   ],
   "source": [
    "# узнайте, в каком месяце чаще всего отказывались от предложения открыть депозит\n",
    "# ваш код\n",
    "months = []\n",
    "month_count = []\n",
    "month_neg_count = []\n",
    "month_neg_per = []\n",
    "for mon in df['month'].unique():\n",
    "    mask1 = df['month']==mon\n",
    "    mask2 = df['deposit']=='no'\n",
    "    months.append(mon)\n",
    "    month_count.append(df[mask1]['deposit'].count())\n",
    "    month_neg_count.append(df[mask1 & mask2]['deposit'].count())\n",
    "    month_neg_per.append(round(df[mask1 & mask2]['deposit'].count() / df[mask1]['deposit'].count(),4))\n",
    "\n",
    "months_df = pd.DataFrame({\n",
    "    'month' : months, \n",
    "    'total_decisions' : month_count, \n",
    "    'negative_decisions' : month_neg_count, \n",
    "    'negative_percent' : month_neg_per\n",
    "})\n",
    "months_df.sort_values(by='negative_percent',ascending=False)"
   ]
  },
  {
   "cell_type": "markdown",
   "id": "5f20762f",
   "metadata": {},
   "source": [
    "### Задание 8"
   ]
  },
  {
   "cell_type": "code",
   "execution_count": 13,
   "id": "95d56f1b",
   "metadata": {},
   "outputs": [],
   "source": [
    "# создайте возрастные группы и определите, в каких группах более склонны открывать депозит, чем отказываться от предложения\n",
    "\n",
    "bins = pd.IntervalIndex.from_tuples([(0, 30), (30, 40), (40, 50), (50, 60), (60, 95)])\n",
    "df['age_intervals'] = pd.cut(df['age'], bins)"
   ]
  },
  {
   "cell_type": "code",
   "execution_count": 14,
   "id": "72c1c33a",
   "metadata": {},
   "outputs": [],
   "source": [
    "df_age_intervals = df.groupby(['age_intervals','deposit'],as_index=False)['age_intervals','deposit'].value_counts()"
   ]
  },
  {
   "cell_type": "code",
   "execution_count": 15,
   "id": "724bb67e",
   "metadata": {},
   "outputs": [
    {
     "data": {
      "text/plain": [
       "Text(0.5, 1.0, 'В каких возрастных группах клиенты более склонны открывать депозит')"
      ]
     },
     "execution_count": 15,
     "metadata": {},
     "output_type": "execute_result"
    },
    {
     "data": {
      "image/png": "[encoded data removed]",
      "text/plain": [
       "<Figure size 720x504 with 1 Axes>"
      ]
     },
     "metadata": {
      "needs_background": "light"
     },
     "output_type": "display_data"
    }
   ],
   "source": [
    "fig = plt.figure(figsize=(10, 7))\n",
    "barplot = sns.barplot(\n",
    "    data=df_age_intervals,\n",
    "    x='age_intervals',\n",
    "    y='count',\n",
    "    hue='deposit'\n",
    ")\n",
    "barplot.grid()\n",
    "barplot.set_title('В каких возрастных группах клиенты более склонны открывать депозит')"
   ]
  },
  {
   "cell_type": "markdown",
   "id": "0841c685",
   "metadata": {},
   "source": [
    "### Задания 9 и 10"
   ]
  },
  {
   "cell_type": "code",
   "execution_count": 46,
   "id": "0d84a9e1",
   "metadata": {},
   "outputs": [
    {
     "data": {
      "text/plain": [
       "Text(0.5, 1.0, 'Клиенты какого семейного статуса более склонны открывать депозит')"
      ]
     },
     "execution_count": 46,
     "metadata": {},
     "output_type": "execute_result"
    },
    {
     "data": {
      "image/png": "[encoded data removed]",
      "text/plain": [
       "<Figure size 720x504 with 1 Axes>"
      ]
     },
     "metadata": {
      "needs_background": "light"
     },
     "output_type": "display_data"
    }
   ],
   "source": [
    "# постройте визуализации для открывших и неоткрывших депозит в зависимости от семейного статуса\n",
    "df_marital = df.groupby(['marital','deposit'],as_index=False)['marital','deposit'].value_counts()\n",
    "\n",
    "fig = plt.figure(figsize=(10, 7))\n",
    "barplot = sns.barplot(\n",
    "    data=df_marital,\n",
    "    x='marital',\n",
    "    y='count',\n",
    "    hue='deposit'\n",
    ")\n",
    "barplot.grid()\n",
    "barplot.set_title('Клиенты какого семейного статуса более склонны открывать депозит')"
   ]
  },
  {
   "cell_type": "code",
   "execution_count": 49,
   "id": "16333967",
   "metadata": {},
   "outputs": [
    {
     "data": {
      "text/plain": [
       "Text(0.5, 1.0, 'Клиенты с каким образованием более склонны открывать депозит')"
      ]
     },
     "execution_count": 49,
     "metadata": {},
     "output_type": "execute_result"
    },
    {
     "data": {
      "image/png": "[encoded data removed]",
      "text/plain": [
       "<Figure size 720x504 with 1 Axes>"
      ]
     },
     "metadata": {
      "needs_background": "light"
     },
     "output_type": "display_data"
    }
   ],
   "source": [
    "#постройте визуализации для открывших и неоткрывших депозит в зависимости от образования\n",
    "df_education = df.groupby(['education','deposit'],as_index=False)['education','deposit'].value_counts()\n",
    "\n",
    "fig = plt.figure(figsize=(10, 7))\n",
    "barplot = sns.barplot(\n",
    "    data=df_education,\n",
    "    x='education',\n",
    "    y='count',\n",
    "    hue='deposit'\n",
    ")\n",
    "barplot.grid()\n",
    "barplot.set_title('Клиенты с каким образованием более склонны открывать депозит')"
   ]
  },
  {
   "cell_type": "code",
   "execution_count": 53,
   "id": "738224f8",
   "metadata": {},
   "outputs": [
    {
     "data": {
      "text/plain": [
       "Text(0.5, 1.0, 'Клиенты какого вида занятости более склонны открывать депозит')"
      ]
     },
     "execution_count": 53,
     "metadata": {},
     "output_type": "execute_result"
    },
    {
     "data": {
      "image/png": "[encoded data removed]",
      "text/plain": [
       "<Figure size 1296x504 with 1 Axes>"
      ]
     },
     "metadata": {
      "needs_background": "light"
     },
     "output_type": "display_data"
    }
   ],
   "source": [
    "# постройте визуализации для открывших и неоткрывших депозит в зависимости от вида профессиональной занятости\n",
    "df_job = df.groupby(['job','deposit'],as_index=False)['job','deposit'].value_counts()\n",
    "\n",
    "fig = plt.figure(figsize=(18, 7))\n",
    "barplot = sns.barplot(\n",
    "    data=df_job,\n",
    "    x='job',\n",
    "    y='count',\n",
    "    hue='deposit'\n",
    ")\n",
    "barplot.grid()\n",
    "barplot.set_title('Клиенты какого вида занятости более склонны открывать депозит')"
   ]
  },
  {
   "cell_type": "markdown",
   "id": "a521e204",
   "metadata": {},
   "source": [
    "### Задание 11"
   ]
  },
  {
   "cell_type": "code",
   "execution_count": 16,
   "id": "35ab0413",
   "metadata": {},
   "outputs": [],
   "source": [
    "# постройте сводную таблицу, чтобы определить люди с каким образованием и семейным статусом наиболее многочисленны\n",
    "#(если рассматривать тех, кто открыл депозит)\n",
    "df_positive = df[df['deposit'] == 'yes']\n",
    "\n",
    "df_positive = df_positive.pivot_table(\n",
    "    values='deposit',\n",
    "    index='marital',\n",
    "    columns='education',\n",
    "    aggfunc='count'\n",
    ")"
   ]
  },
  {
   "cell_type": "code",
   "execution_count": 17,
   "id": "d3f845d4",
   "metadata": {},
   "outputs": [
    {
     "data": {
      "image/png": "[encoded data removed]",
      "text/plain": [
       "<Figure size 432x288 with 2 Axes>"
      ]
     },
     "metadata": {
      "needs_background": "light"
     },
     "output_type": "display_data"
    }
   ],
   "source": [
    "heatmap = sns.heatmap(data=df_positive, cmap='YlGnBu')\n",
    "heatmap.set_title('Количество открытых депозитов в зависимости от образования и семейного положения', fontsize=16);"
   ]
  },
  {
   "cell_type": "markdown",
   "id": "dfd805c0",
   "metadata": {},
   "source": [
    "## Часть 3: преобразование данных"
   ]
  },
  {
   "cell_type": "markdown",
   "id": "e44e715b",
   "metadata": {},
   "source": [
    "### Задание 1"
   ]
  },
  {
   "cell_type": "code",
   "execution_count": 18,
   "id": "1e815773",
   "metadata": {},
   "outputs": [],
   "source": [
    "# преобразуйте уровни образования\n",
    "lb = LabelEncoder()\n",
    "df['education'] = lb.fit_transform(df['education'])"
   ]
  },
  {
   "cell_type": "code",
   "execution_count": 19,
   "id": "a7eaee4e",
   "metadata": {},
   "outputs": [
    {
     "data": {
      "text/plain": [
       "11995"
      ]
     },
     "execution_count": 19,
     "metadata": {},
     "output_type": "execute_result"
    }
   ],
   "source": [
    "df['education'].sum()"
   ]
  },
  {
   "cell_type": "code",
   "execution_count": 20,
   "id": "3608f9d0",
   "metadata": {},
   "outputs": [],
   "source": [
    "df['age_intervals'] = lb.fit_transform(df['age_intervals'])"
   ]
  },
  {
   "cell_type": "markdown",
   "id": "8c93e73d",
   "metadata": {},
   "source": [
    "### Задания 2 и 3"
   ]
  },
  {
   "cell_type": "code",
   "execution_count": 21,
   "id": "626a5762",
   "metadata": {},
   "outputs": [],
   "source": [
    "# преобразуйте бинарные переменные в представление из нулей и единиц\n",
    "df['deposit'] = df['deposit'].apply(lambda x: 1 if x=='yes' else 0)"
   ]
  },
  {
   "cell_type": "code",
   "execution_count": 17,
   "id": "fb4c40c1",
   "metadata": {},
   "outputs": [
    {
     "data": {
      "text/plain": [
       "0.499"
      ]
     },
     "execution_count": 17,
     "metadata": {},
     "output_type": "execute_result"
    }
   ],
   "source": [
    "round(df['deposit'].std(),3)"
   ]
  },
  {
   "cell_type": "code",
   "execution_count": 22,
   "id": "055fc8eb",
   "metadata": {},
   "outputs": [],
   "source": [
    "df['default'] = df['default'].apply(lambda x: 1 if x=='yes' else 0)\n",
    "df['housing'] = df['housing'].apply(lambda x: 1 if x=='yes' else 0)\n",
    "df['loan'] = df['loan'].apply(lambda x: 1 if x=='yes' else 0)"
   ]
  },
  {
   "cell_type": "code",
   "execution_count": 19,
   "id": "530a71e2",
   "metadata": {},
   "outputs": [
    {
     "data": {
      "text/plain": [
       "0.635"
      ]
     },
     "execution_count": 19,
     "metadata": {},
     "output_type": "execute_result"
    }
   ],
   "source": [
    "round(df['default'].mean() + df['housing'].mean() + df['loan'].mean(),3)"
   ]
  },
  {
   "cell_type": "code",
   "execution_count": 23,
   "id": "464fa1d2",
   "metadata": {},
   "outputs": [],
   "source": [
    "df.drop(columns=['age'], axis=1, inplace=True)"
   ]
  },
  {
   "cell_type": "markdown",
   "id": "c40dc02a",
   "metadata": {},
   "source": [
    "### Задание 4"
   ]
  },
  {
   "cell_type": "code",
   "execution_count": 24,
   "id": "6a9949da",
   "metadata": {},
   "outputs": [
    {
     "data": {
      "text/plain": [
       "17"
      ]
     },
     "execution_count": 24,
     "metadata": {},
     "output_type": "execute_result"
    }
   ],
   "source": [
    "df.shape[1]"
   ]
  },
  {
   "cell_type": "code",
   "execution_count": 25,
   "id": "b996883f",
   "metadata": {},
   "outputs": [],
   "source": [
    "# создайте дамми-переменные\n",
    "df_dummy = pd.get_dummies(df)"
   ]
  },
  {
   "cell_type": "code",
   "execution_count": 26,
   "id": "41f45920",
   "metadata": {},
   "outputs": [
    {
     "data": {
      "text/plain": [
       "44"
      ]
     },
     "execution_count": 26,
     "metadata": {},
     "output_type": "execute_result"
    }
   ],
   "source": [
    "df_dummy.shape[1] - 1"
   ]
  },
  {
   "cell_type": "markdown",
   "id": "9a23e318",
   "metadata": {},
   "source": [
    "### Задания 5 и 6"
   ]
  },
  {
   "cell_type": "code",
   "execution_count": 27,
   "id": "db7650ad",
   "metadata": {},
   "outputs": [
    {
     "data": {
      "text/plain": [
       "<AxesSubplot: >"
      ]
     },
     "execution_count": 27,
     "metadata": {},
     "output_type": "execute_result"
    },
    {
     "data": {
      "image/png": "[encoded data removed]",
      "text/plain": [
       "<Figure size 432x288 with 2 Axes>"
      ]
     },
     "metadata": {
      "needs_background": "light"
     },
     "output_type": "display_data"
    }
   ],
   "source": [
    "# постройте корреляционную матрицу и оцените данные на предмет наличия мультиколлинеарности\n",
    "sns.heatmap(df_dummy.corr(), vmin=-1, vmax=1, cmap= 'coolwarm')"
   ]
  },
  {
   "cell_type": "code",
   "execution_count": 28,
   "id": "865495f6",
   "metadata": {},
   "outputs": [],
   "source": [
    "df_corr = df_dummy.corr()\n",
    "col, rows, corr = [], [], []\n",
    "for i in df_corr.columns:\n",
    "    for j in df_corr.columns:\n",
    "        col.append(i)\n",
    "        rows.append(j)\n",
    "        corr.append(df_corr.loc[i,j])\n",
    "df_ranged = pd.DataFrame({\n",
    "    'columns' : col,\n",
    "    'rows' : rows,\n",
    "    'correlation' : corr   \n",
    "})\n",
    "bins = pd.IntervalIndex.from_tuples([(-1,-0.9),(-0.9,-0.75),(-0.75,-0.5),(-0.5,-0.25),(-0.25,0), (0,0.25),(0.25,0.5),(0.5,0.75),(0.75,0.9),(0.9,1)])\n",
    "df_ranged['correlation_ranged'] = pd.cut(df_ranged['correlation'], bins)\n",
    "\n",
    "df_ranged = df_ranged.groupby('correlation_ranged', as_index = False).count()"
   ]
  },
  {
   "cell_type": "code",
   "execution_count": 29,
   "id": "1c955f8c",
   "metadata": {},
   "outputs": [
    {
     "data": {
      "image/png": "[encoded data removed]",
      "text/plain": [
       "<Figure size 1080x504 with 1 Axes>"
      ]
     },
     "metadata": {
      "needs_background": "light"
     },
     "output_type": "display_data"
    }
   ],
   "source": [
    "fig = plt.figure(figsize=(15, 7))\n",
    "\n",
    "barplot = sns.barplot(\n",
    "    data=df_ranged,\n",
    "    x='correlation_ranged',\n",
    "    y='columns'\n",
    ")\n",
    "barplot.set_title('Распределение корреляция между признаками');"
   ]
  },
  {
   "cell_type": "code",
   "execution_count": 31,
   "id": "1c884c1a",
   "metadata": {},
   "outputs": [
    {
     "data": {
      "text/plain": [
       "poutcome_success    0.288491\n",
       "duration            0.457818\n",
       "contact_cellular    0.223944\n",
       "Name: deposit, dtype: float64"
      ]
     },
     "execution_count": 31,
     "metadata": {},
     "output_type": "execute_result"
    }
   ],
   "source": [
    "df_dummy.corr().loc['deposit'][['poutcome_success','duration','contact_cellular']]"
   ]
  },
  {
   "cell_type": "code",
   "execution_count": 30,
   "id": "b2ed2218",
   "metadata": {},
   "outputs": [],
   "source": [
    "df_corr_plus = df_dummy.corr() >= 0.9\n",
    "df_corr_minus = df_dummy.corr() <= -0.9"
   ]
  },
  {
   "cell_type": "code",
   "execution_count": 31,
   "id": "b40bc6b8",
   "metadata": {},
   "outputs": [],
   "source": [
    "def corr_check (df):\n",
    "    mult = {}\n",
    "    for i in df.columns:\n",
    "        for j in df.columns:\n",
    "            if df.loc[i,j] == True and i != j:\n",
    "                mult[i] = j       \n",
    "    return mult"
   ]
  },
  {
   "cell_type": "code",
   "execution_count": 36,
   "id": "ea5faa01",
   "metadata": {},
   "outputs": [
    {
     "name": "stdout",
     "output_type": "stream",
     "text": [
      "Коэффициенты корреляции выше 0,9 для: {'age': 'age_intervals', 'age_intervals': 'age'}\n",
      "Коэффициенты корреляции ниже -0,9 для: {}\n"
     ]
    }
   ],
   "source": [
    "print(f'Коэффициенты корреляции выше 0,9 для: {corr_check(df_corr_plus)}')\n",
    "print(f'Коэффициенты корреляции ниже -0,9 для: {corr_check(df_corr_minus)}')"
   ]
  },
  {
   "cell_type": "markdown",
   "id": "b5b4c1a5",
   "metadata": {},
   "source": [
    "### Задания 7 и 8"
   ]
  },
  {
   "cell_type": "code",
   "execution_count": 32,
   "id": "79f3e432",
   "metadata": {},
   "outputs": [],
   "source": [
    "X = df_dummy.drop(['deposit'], axis=1)\n",
    "y = df_dummy['deposit']\n",
    " \n",
    "X_train, X_test, y_train, y_test = train_test_split(X, y, stratify=y, random_state = 42, test_size = 0.33)"
   ]
  },
  {
   "cell_type": "code",
   "execution_count": 33,
   "id": "e3a097a4",
   "metadata": {},
   "outputs": [
    {
     "data": {
      "text/plain": [
       "((3335, 44), (6770, 44))"
      ]
     },
     "execution_count": 33,
     "metadata": {},
     "output_type": "execute_result"
    }
   ],
   "source": [
    "# рассчитайте необходимые показатели\n",
    "X_test.shape, X_train.shape"
   ]
  },
  {
   "cell_type": "code",
   "execution_count": 34,
   "id": "f9f46c3f",
   "metadata": {},
   "outputs": [
    {
     "data": {
      "text/plain": [
       "0.46"
      ]
     },
     "execution_count": 34,
     "metadata": {},
     "output_type": "execute_result"
    }
   ],
   "source": [
    "round(y_test.mean(),2)"
   ]
  },
  {
   "cell_type": "markdown",
   "id": "2e381a4f",
   "metadata": {},
   "source": [
    "### Задание 9"
   ]
  },
  {
   "cell_type": "code",
   "execution_count": 35,
   "id": "0f6e03e0",
   "metadata": {},
   "outputs": [
    {
     "data": {
      "text/plain": [
       "array(['balance', 'housing', 'loan', 'duration', 'campaign', 'pdays',\n",
       "       'previous', 'contact_cellular', 'contact_unknown', 'month_mar',\n",
       "       'month_may', 'month_oct', 'month_sep', 'poutcome_success',\n",
       "       'poutcome_unknown'], dtype=object)"
      ]
     },
     "execution_count": 35,
     "metadata": {},
     "output_type": "execute_result"
    }
   ],
   "source": [
    "# с помощью SelectKBest отберите 15 наиболее подходящих признаков\n",
    "selector = SelectKBest(score_func = f_classif, k=15)\n",
    "selector.fit(X_train, y_train)\n",
    " \n",
    "selector.get_feature_names_out()"
   ]
  },
  {
   "cell_type": "markdown",
   "id": "60132ef3",
   "metadata": {},
   "source": [
    "### Задание 10"
   ]
  },
  {
   "cell_type": "code",
   "execution_count": 36,
   "id": "e91b06f3",
   "metadata": {},
   "outputs": [],
   "source": [
    "# нормализуйте данные с помощью minmaxsxaler\n",
    "best_features = ['balance','housing','loan','duration','campaign','pdays','previous','contact_cellular','contact_unknown',\n",
    "                 'month_mar','month_may','month_oct','month_sep','poutcome_success','poutcome_unknown']\n",
    "X_train = X_train[best_features]\n",
    "X_test = X_test[best_features]"
   ]
  },
  {
   "cell_type": "code",
   "execution_count": 37,
   "id": "e038f611",
   "metadata": {},
   "outputs": [],
   "source": [
    "col_names = list(X_train.columns)\n",
    "mm_scaler = preprocessing.MinMaxScaler()\n",
    "\n",
    "X_train_mm = mm_scaler.fit_transform(X_train)\n",
    "X_test_mm = mm_scaler.fit_transform(X_test)"
   ]
  },
  {
   "cell_type": "code",
   "execution_count": 38,
   "id": "54027645",
   "metadata": {},
   "outputs": [],
   "source": [
    "X_train_mm = pd.DataFrame(X_train_mm, columns=col_names)\n",
    "X_test_mm = pd.DataFrame(X_test_mm, columns=col_names)"
   ]
  },
  {
   "cell_type": "code",
   "execution_count": 39,
   "id": "7db2e7c1",
   "metadata": {},
   "outputs": [
    {
     "data": {
      "text/plain": [
       "0.46696"
      ]
     },
     "execution_count": 39,
     "metadata": {},
     "output_type": "execute_result"
    }
   ],
   "source": [
    "round(X_train_mm['balance'].mean(),5)"
   ]
  },
  {
   "cell_type": "markdown",
   "id": "0894c632",
   "metadata": {},
   "source": [
    "# Часть 4: Решение задачи классификации: логистическая регрессия и решающие деревья"
   ]
  },
  {
   "cell_type": "markdown",
   "id": "41b8ff06",
   "metadata": {},
   "source": [
    "### Задание 1"
   ]
  },
  {
   "cell_type": "code",
   "execution_count": 40,
   "id": "8acc0166",
   "metadata": {},
   "outputs": [
    {
     "name": "stdout",
     "output_type": "stream",
     "text": [
      "Accuracy: 0.8153\n",
      "              precision    recall  f1-score   support\n",
      "\n",
      "           0       0.83      0.82      0.83      1790\n",
      "           1       0.79      0.81      0.80      1545\n",
      "\n",
      "    accuracy                           0.82      3335\n",
      "   macro avg       0.81      0.82      0.81      3335\n",
      "weighted avg       0.82      0.82      0.82      3335\n",
      "\n"
     ]
    }
   ],
   "source": [
    "# обучите логистическую регрессию и рассчитайте метрики качества\n",
    "log_reg = linear_model.LogisticRegression(solver = 'sag',random_state=42,max_iter=1000)\n",
    "log_reg.fit(X_train_mm, y_train)\n",
    "\n",
    "y_test_pred = log_reg.predict(X_test_mm)\n",
    "print('Accuracy: {:.4f}'.format(metrics.accuracy_score(y_test, y_test_pred)))\n",
    "print(metrics.classification_report(y_test, y_test_pred))"
   ]
  },
  {
   "cell_type": "markdown",
   "id": "29b7e0ba",
   "metadata": {},
   "source": [
    "### Задания 2,3,4"
   ]
  },
  {
   "cell_type": "code",
   "execution_count": 41,
   "id": "c91a588b",
   "metadata": {},
   "outputs": [
    {
     "name": "stdout",
     "output_type": "stream",
     "text": [
      "Accuracy: 0.8164\n",
      "Accuracy: 0.8036\n"
     ]
    }
   ],
   "source": [
    "# обучите решающие деревья, настройте максимальную глубину\n",
    "dt_clf = tree.DecisionTreeClassifier(\n",
    "    criterion='entropy', \n",
    "    max_depth=6, \n",
    "    random_state=42 \n",
    ")\n",
    "dt_clf.fit(X_train_mm, y_train)\n",
    "y_train_pred = dt_clf.predict(X_train_mm)\n",
    "y_test_pred = dt_clf.predict(X_test_mm)\n",
    "print('Accuracy: {:.4f}'.format(metrics.accuracy_score(y_train, y_train_pred)))\n",
    "print('Accuracy: {:.4f}'.format(metrics.accuracy_score(y_test, y_test_pred)))\n",
    "#print(metrics.classification_report(y_test, y_test_pred))"
   ]
  },
  {
   "cell_type": "code",
   "execution_count": 42,
   "id": "e9ac993c",
   "metadata": {},
   "outputs": [
    {
     "data": {
      "text/html": [
       "<div>\n",
       "<style scoped>\n",
       "    .dataframe tbody tr th:only-of-type {\n",
       "        vertical-align: middle;\n",
       "    }\n",
       "\n",
       "    .dataframe tbody tr th {\n",
       "        vertical-align: top;\n",
       "    }\n",
       "\n",
       "    .dataframe thead th {\n",
       "        text-align: right;\n",
       "    }\n",
       "</style>\n",
       "<table border=\"1\" class=\"dataframe\">\n",
       "  <thead>\n",
       "    <tr style=\"text-align: right;\">\n",
       "      <th></th>\n",
       "      <th>1</th>\n",
       "      <th>2</th>\n",
       "      <th>3</th>\n",
       "      <th>4</th>\n",
       "      <th>5</th>\n",
       "      <th>6</th>\n",
       "      <th>7</th>\n",
       "      <th>8</th>\n",
       "      <th>9</th>\n",
       "      <th>10</th>\n",
       "      <th>11</th>\n",
       "      <th>12</th>\n",
       "      <th>13</th>\n",
       "      <th>14</th>\n",
       "      <th>15</th>\n",
       "      <th>16</th>\n",
       "      <th>17</th>\n",
       "      <th>18</th>\n",
       "      <th>19</th>\n",
       "      <th>20</th>\n",
       "    </tr>\n",
       "  </thead>\n",
       "  <tbody>\n",
       "    <tr>\n",
       "      <th>0</th>\n",
       "      <td>0.712</td>\n",
       "      <td>0.729</td>\n",
       "      <td>0.776</td>\n",
       "      <td>0.776</td>\n",
       "      <td>0.804</td>\n",
       "      <td>0.816</td>\n",
       "      <td>0.823</td>\n",
       "      <td>0.832</td>\n",
       "      <td>0.840</td>\n",
       "      <td>0.854</td>\n",
       "      <td>0.867</td>\n",
       "      <td>0.877</td>\n",
       "      <td>0.887</td>\n",
       "      <td>0.899</td>\n",
       "      <td>0.91</td>\n",
       "      <td>0.922</td>\n",
       "      <td>0.931</td>\n",
       "      <td>0.938</td>\n",
       "      <td>0.945</td>\n",
       "      <td>0.953</td>\n",
       "    </tr>\n",
       "    <tr>\n",
       "      <th>1</th>\n",
       "      <td>0.689</td>\n",
       "      <td>0.722</td>\n",
       "      <td>0.748</td>\n",
       "      <td>0.748</td>\n",
       "      <td>0.783</td>\n",
       "      <td>0.804</td>\n",
       "      <td>0.803</td>\n",
       "      <td>0.793</td>\n",
       "      <td>0.781</td>\n",
       "      <td>0.791</td>\n",
       "      <td>0.790</td>\n",
       "      <td>0.789</td>\n",
       "      <td>0.785</td>\n",
       "      <td>0.779</td>\n",
       "      <td>0.78</td>\n",
       "      <td>0.773</td>\n",
       "      <td>0.774</td>\n",
       "      <td>0.769</td>\n",
       "      <td>0.763</td>\n",
       "      <td>0.763</td>\n",
       "    </tr>\n",
       "  </tbody>\n",
       "</table>\n",
       "</div>"
      ],
      "text/plain": [
       "      1      2      3      4      5      6      7      8      9      10  \\\n",
       "0  0.712  0.729  0.776  0.776  0.804  0.816  0.823  0.832  0.840  0.854   \n",
       "1  0.689  0.722  0.748  0.748  0.783  0.804  0.803  0.793  0.781  0.791   \n",
       "\n",
       "      11     12     13     14    15     16     17     18     19     20  \n",
       "0  0.867  0.877  0.887  0.899  0.91  0.922  0.931  0.938  0.945  0.953  \n",
       "1  0.790  0.789  0.785  0.779  0.78  0.773  0.774  0.769  0.763  0.763  "
      ]
     },
     "execution_count": 42,
     "metadata": {},
     "output_type": "execute_result"
    }
   ],
   "source": [
    "train = {}\n",
    "test = {}\n",
    "for i in range(1,21):\n",
    "    dt_clf = tree.DecisionTreeClassifier(criterion='entropy',max_depth=i,random_state=42)\n",
    "    dt_clf.fit(X_train_mm,y_train)\n",
    "    y_train_pred = dt_clf.predict(X_train_mm)\n",
    "    y_test_pred = dt_clf.predict(X_test_mm)\n",
    "    train[i] = round(metrics.accuracy_score(y_train, y_train_pred),3)\n",
    "    test[i] = round(metrics.accuracy_score(y_test, y_test_pred),3)\n",
    "data = pd.DataFrame([train,test])\n",
    "data"
   ]
  },
  {
   "cell_type": "markdown",
   "id": "fe823c18",
   "metadata": {},
   "source": [
    "### Задание 5"
   ]
  },
  {
   "cell_type": "code",
   "execution_count": 43,
   "id": "63574943",
   "metadata": {},
   "outputs": [
    {
     "name": "stdout",
     "output_type": "stream",
     "text": [
      "Fitting 5 folds for each of 12 candidates, totalling 60 fits\n",
      "DecisionTreeClassifier(max_depth=7, min_samples_leaf=10, random_state=42)\n"
     ]
    }
   ],
   "source": [
    "# подберите оптимальные параметры с помощью gridsearch\n",
    "from sklearn.model_selection import GridSearchCV\n",
    "dt_clf = tree.DecisionTreeClassifier(random_state=42)\n",
    "param_grid = {'min_samples_leaf': [2, 5, 7, 10],\n",
    "              'max_depth':[3,5,7]}\n",
    "grid_search = GridSearchCV(dt_clf, param_grid=param_grid, verbose = True)\n",
    "\n",
    "\n",
    "grid_search.fit(X_train_mm, y_train)\n",
    "print(grid_search.best_estimator_)"
   ]
  },
  {
   "cell_type": "code",
   "execution_count": 48,
   "id": "c017af4a",
   "metadata": {},
   "outputs": [
    {
     "name": "stdout",
     "output_type": "stream",
     "text": [
      "F1 score: 0.7993\n"
     ]
    }
   ],
   "source": [
    "dt_clf = tree.DecisionTreeClassifier(\n",
    "    criterion='entropy', \n",
    "    max_depth=7, \n",
    "    min_samples_leaf=10,\n",
    "    random_state=42 \n",
    ")\n",
    "dt_clf.fit(X_train_mm, y_train)\n",
    "y_train_pred = dt_clf.predict(X_train_mm)\n",
    "y_test_pred = dt_clf.predict(X_test_mm)\n",
    "\n",
    "print('F1 score: {:.4f}'.format(metrics.f1_score(y_test, y_test_pred)))"
   ]
  },
  {
   "cell_type": "markdown",
   "id": "ed0fc831",
   "metadata": {},
   "source": [
    "# Часть 5: Решение задачи классификации: ансамбли моделей и построение прогноза"
   ]
  },
  {
   "cell_type": "markdown",
   "id": "f9e36ff2",
   "metadata": {},
   "source": [
    "### Задание 1"
   ]
  },
  {
   "cell_type": "code",
   "execution_count": 65,
   "id": "e708e3fe",
   "metadata": {},
   "outputs": [
    {
     "name": "stdout",
     "output_type": "stream",
     "text": [
      "Accuracy: 0.8162\n",
      "Recall: 0.8848\n",
      "              precision    recall  f1-score   support\n",
      "\n",
      "           0       0.88      0.76      0.82      1790\n",
      "           1       0.76      0.88      0.82      1545\n",
      "\n",
      "    accuracy                           0.82      3335\n",
      "   macro avg       0.82      0.82      0.82      3335\n",
      "weighted avg       0.83      0.82      0.82      3335\n",
      "\n"
     ]
    }
   ],
   "source": [
    "# обучите на ваших данных случайный лес\n",
    "rf_clf = ensemble.RandomForestClassifier(\n",
    "    n_estimators=100, \n",
    "    criterion='gini',\n",
    "    min_samples_leaf=5,\n",
    "    max_depth=10, \n",
    "    random_state=42 \n",
    ")\n",
    "\n",
    "rf_clf.fit(X_train_mm, y_train)\n",
    "y_pred = rf_clf.predict(X_test_mm)\n",
    "print('Accuracy: {:.4f}'.format(metrics.accuracy_score(y_test, y_test_pred)))\n",
    "print('Recall: {:.4f}'.format(metrics.recall_score(y_test, y_test_pred)))\n",
    "print(metrics.classification_report(y_test, y_test_pred))"
   ]
  },
  {
   "cell_type": "markdown",
   "id": "71d7b13d",
   "metadata": {},
   "source": [
    "### Задания 2 и 3"
   ]
  },
  {
   "cell_type": "code",
   "execution_count": 58,
   "id": "99f12dfe",
   "metadata": {},
   "outputs": [
    {
     "data": {
      "text/html": [
       "<style>#sk-container-id-2 {color: black;background-color: white;}#sk-container-id-2 pre{padding: 0;}#sk-container-id-2 div.sk-toggleable {background-color: white;}#sk-container-id-2 label.sk-toggleable__label {cursor: pointer;display: block;width: 100%;margin-bottom: 0;padding: 0.3em;box-sizing: border-box;text-align: center;}#sk-container-id-2 label.sk-toggleable__label-arrow:before {content: \"▸\";float: left;margin-right: 0.25em;color: #696969;}#sk-container-id-2 label.sk-toggleable__label-arrow:hover:before {color: black;}#sk-container-id-2 div.sk-estimator:hover label.sk-toggleable__label-arrow:before {color: black;}#sk-container-id-2 div.sk-toggleable__content {max-height: 0;max-width: 0;overflow: hidden;text-align: left;background-color: #f0f8ff;}#sk-container-id-2 div.sk-toggleable__content pre {margin: 0.2em;color: black;border-radius: 0.25em;background-color: #f0f8ff;}#sk-container-id-2 input.sk-toggleable__control:checked~div.sk-toggleable__content {max-height: 200px;max-width: 100%;overflow: auto;}#sk-container-id-2 input.sk-toggleable__control:checked~label.sk-toggleable__label-arrow:before {content: \"▾\";}#sk-container-id-2 div.sk-estimator input.sk-toggleable__control:checked~label.sk-toggleable__label {background-color: #d4ebff;}#sk-container-id-2 div.sk-label input.sk-toggleable__control:checked~label.sk-toggleable__label {background-color: #d4ebff;}#sk-container-id-2 input.sk-hidden--visually {border: 0;clip: rect(1px 1px 1px 1px);clip: rect(1px, 1px, 1px, 1px);height: 1px;margin: -1px;overflow: hidden;padding: 0;position: absolute;width: 1px;}#sk-container-id-2 div.sk-estimator {font-family: monospace;background-color: #f0f8ff;border: 1px dotted black;border-radius: 0.25em;box-sizing: border-box;margin-bottom: 0.5em;}#sk-container-id-2 div.sk-estimator:hover {background-color: #d4ebff;}#sk-container-id-2 div.sk-parallel-item::after {content: \"\";width: 100%;border-bottom: 1px solid gray;flex-grow: 1;}#sk-container-id-2 div.sk-label:hover label.sk-toggleable__label {background-color: #d4ebff;}#sk-container-id-2 div.sk-serial::before {content: \"\";position: absolute;border-left: 1px solid gray;box-sizing: border-box;top: 0;bottom: 0;left: 50%;z-index: 0;}#sk-container-id-2 div.sk-serial {display: flex;flex-direction: column;align-items: center;background-color: white;padding-right: 0.2em;padding-left: 0.2em;position: relative;}#sk-container-id-2 div.sk-item {position: relative;z-index: 1;}#sk-container-id-2 div.sk-parallel {display: flex;align-items: stretch;justify-content: center;background-color: white;position: relative;}#sk-container-id-2 div.sk-item::before, #sk-container-id-2 div.sk-parallel-item::before {content: \"\";position: absolute;border-left: 1px solid gray;box-sizing: border-box;top: 0;bottom: 0;left: 50%;z-index: -1;}#sk-container-id-2 div.sk-parallel-item {display: flex;flex-direction: column;z-index: 1;position: relative;background-color: white;}#sk-container-id-2 div.sk-parallel-item:first-child::after {align-self: flex-end;width: 50%;}#sk-container-id-2 div.sk-parallel-item:last-child::after {align-self: flex-start;width: 50%;}#sk-container-id-2 div.sk-parallel-item:only-child::after {width: 0;}#sk-container-id-2 div.sk-dashed-wrapped {border: 1px dashed gray;margin: 0 0.4em 0.5em 0.4em;box-sizing: border-box;padding-bottom: 0.4em;background-color: white;}#sk-container-id-2 div.sk-label label {font-family: monospace;font-weight: bold;display: inline-block;line-height: 1.2em;}#sk-container-id-2 div.sk-label-container {text-align: center;}#sk-container-id-2 div.sk-container {/* jupyter's `normalize.less` sets `[hidden] { display: none; }` but bootstrap.min.css set `[hidden] { display: none !important; }` so we also need the `!important` here to be able to override the default hidden behavior on the sphinx rendered scikit-learn.org. See: https://github.com/scikit-learn/scikit-learn/issues/21755 */display: inline-block !important;position: relative;}#sk-container-id-2 div.sk-text-repr-fallback {display: none;}</style><div id=\"sk-container-id-2\" class=\"sk-top-container\"><div class=\"sk-text-repr-fallback\"><pre>GradientBoostingClassifier(learning_rate=0.05, max_depth=5, min_samples_leaf=5,\n",
       "                           n_estimators=300, random_state=42)</pre><b>In a Jupyter environment, please rerun this cell to show the HTML representation or trust the notebook. <br />On GitHub, the HTML representation is unable to render, please try loading this page with nbviewer.org.</b></div><div class=\"sk-container\" hidden><div class=\"sk-item\"><div class=\"sk-estimator sk-toggleable\"><input class=\"sk-toggleable__control sk-hidden--visually\" id=\"sk-estimator-id-2\" type=\"checkbox\" checked><label for=\"sk-estimator-id-2\" class=\"sk-toggleable__label sk-toggleable__label-arrow\">GradientBoostingClassifier</label><div class=\"sk-toggleable__content\"><pre>GradientBoostingClassifier(learning_rate=0.05, max_depth=5, min_samples_leaf=5,\n",
       "                           n_estimators=300, random_state=42)</pre></div></div></div></div></div>"
      ],
      "text/plain": [
       "GradientBoostingClassifier(learning_rate=0.05, max_depth=5, min_samples_leaf=5,\n",
       "                           n_estimators=300, random_state=42)"
      ]
     },
     "execution_count": 58,
     "metadata": {},
     "output_type": "execute_result"
    }
   ],
   "source": [
    "# используйте для классификации градиентный бустинг и сравните качество со случайным лесом\n",
    "gb = GradientBoostingClassifier(\n",
    "    learning_rate=0.05,\n",
    "\tmax_depth=5, \n",
    "    n_estimators=300,\n",
    "    min_samples_leaf=5, \n",
    "    random_state=42 \n",
    "    )\n",
    "gb.fit(X_train_mm, y_train)"
   ]
  },
  {
   "cell_type": "code",
   "execution_count": 60,
   "id": "2d2a154c",
   "metadata": {},
   "outputs": [],
   "source": [
    "y_test_pred  = gb.predict(X_test_mm)"
   ]
  },
  {
   "cell_type": "code",
   "execution_count": 62,
   "id": "ba59b2c4",
   "metadata": {},
   "outputs": [
    {
     "name": "stdout",
     "output_type": "stream",
     "text": [
      "F1 score: 0.8169\n"
     ]
    }
   ],
   "source": [
    "print('F1 score: {:.4f}'.format(metrics.f1_score(y_test, y_test_pred)))"
   ]
  },
  {
   "cell_type": "code",
   "execution_count": 64,
   "id": "5c388fdf",
   "metadata": {},
   "outputs": [
    {
     "name": "stdout",
     "output_type": "stream",
     "text": [
      "              precision    recall  f1-score   support\n",
      "\n",
      "           0       0.88      0.76      0.82      1790\n",
      "           1       0.76      0.88      0.82      1545\n",
      "\n",
      "    accuracy                           0.82      3335\n",
      "   macro avg       0.82      0.82      0.82      3335\n",
      "weighted avg       0.83      0.82      0.82      3335\n",
      "\n"
     ]
    }
   ],
   "source": [
    "print(metrics.classification_report(y_test, y_test_pred))"
   ]
  },
  {
   "cell_type": "markdown",
   "id": "b08718ae",
   "metadata": {},
   "source": [
    "### Задание 4"
   ]
  },
  {
   "cell_type": "code",
   "execution_count": 69,
   "id": "0bd42fb0",
   "metadata": {},
   "outputs": [],
   "source": [
    "# объедините уже известные вам алгоритмы с помощью стекинга \n",
    "estimators = [\n",
    "    ('dt_clf', tree.DecisionTreeClassifier(criterion='entropy', max_depth=6, random_state=42)),\n",
    "    ('log_reg', linear_model.LogisticRegression(solver = 'sag', random_state=42, max_iter=1000)),\n",
    "    ('gb', GradientBoostingClassifier( learning_rate=0.05, max_depth=5, n_estimators=300, min_samples_leaf=5, random_state=42))\n",
    "]\n",
    "\n",
    "s_clf = StackingClassifier(\n",
    "    estimators=estimators,\n",
    "    final_estimator=linear_model.LogisticRegression(solver = 'sag', random_state=42, max_iter=1000))\n",
    "\n",
    "s_clf.fit(X_train_mm, y_train)\n",
    "y_pred_stack = s_clf.predict(X_test_mm)"
   ]
  },
  {
   "cell_type": "code",
   "execution_count": 70,
   "id": "fd164bb6",
   "metadata": {},
   "outputs": [
    {
     "name": "stdout",
     "output_type": "stream",
     "text": [
      "Precision: 0.7730\n"
     ]
    }
   ],
   "source": [
    "print('Precision: {:.4f}'.format(metrics.precision_score(y_test, y_pred_stack)))"
   ]
  },
  {
   "cell_type": "markdown",
   "id": "6247a5fb",
   "metadata": {},
   "source": [
    "### Задание 5"
   ]
  },
  {
   "cell_type": "code",
   "execution_count": 89,
   "id": "15a4638a",
   "metadata": {},
   "outputs": [
    {
     "data": {
      "text/plain": [
       "deposit             1.000000\n",
       "duration            0.462245\n",
       "poutcome_success    0.291469\n",
       "contact_unknown     0.243762\n",
       "Name: deposit, dtype: float64"
      ]
     },
     "execution_count": 89,
     "metadata": {},
     "output_type": "execute_result"
    }
   ],
   "source": [
    "# оцените, какие признаки демонстрируют наибольшую  важность в модели градиентного бустинга\n",
    "X_train['deposit'] = y_train\n",
    "X_train.corr().loc['deposit'].abs().nlargest(4)"
   ]
  },
  {
   "cell_type": "markdown",
   "id": "96974dda",
   "metadata": {},
   "source": [
    "### Задания 6,7,8"
   ]
  },
  {
   "cell_type": "code",
   "execution_count": null,
   "id": "c48e29e9",
   "metadata": {},
   "outputs": [],
   "source": [
    "# реализуйте оптимизацию гиперпараметров с помощью Optuna"
   ]
  }
 ],
 "metadata": {
  "kernelspec": {
   "display_name": "Python 3.8.8 ('base')",
   "language": "python",
   "name": "python3"
  },
  "language_info": {
   "codemirror_mode": {
    "name": "ipython",
    "version": 3
   },
   "file_extension": ".py",
   "mimetype": "text/x-python",
   "name": "python",
   "nbconvert_exporter": "python",
   "pygments_lexer": "ipython3",
   "version": "3.8.8"
  },
  "vscode": {
   "interpreter": {
    "hash": "217422af06b81c4546264fc7608183ee0663ede64c8b5bb9fe5794fe0d5e4579"
   }
  }
 },
 "nbformat": 4,
 "nbformat_minor": 5
}
